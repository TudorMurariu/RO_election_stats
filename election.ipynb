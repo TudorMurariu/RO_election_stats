{
 "cells": [
  {
   "cell_type": "markdown",
   "id": "251eaf51",
   "metadata": {},
   "source": [
    "Imports and loading data"
   ]
  },
  {
   "cell_type": "code",
   "execution_count": 1,
   "id": "aae25372",
   "metadata": {},
   "outputs": [],
   "source": [
    "import pandas as pd\n",
    "import matplotlib.pyplot as plt\n",
    "import numpy as np"
   ]
  },
  {
   "cell_type": "code",
   "execution_count": 30,
   "id": "eb51f965",
   "metadata": {},
   "outputs": [
    {
     "data": {
      "text/html": [
       "<div>\n",
       "<style scoped>\n",
       "    .dataframe tbody tr th:only-of-type {\n",
       "        vertical-align: middle;\n",
       "    }\n",
       "\n",
       "    .dataframe tbody tr th {\n",
       "        vertical-align: top;\n",
       "    }\n",
       "\n",
       "    .dataframe thead th {\n",
       "        text-align: right;\n",
       "    }\n",
       "</style>\n",
       "<table border=\"1\" class=\"dataframe\">\n",
       "  <thead>\n",
       "    <tr style=\"text-align: right;\">\n",
       "      <th></th>\n",
       "      <th>Judet</th>\n",
       "      <th>UAT</th>\n",
       "      <th>Localitate</th>\n",
       "      <th>Siruta</th>\n",
       "      <th>Nr sectie de votare</th>\n",
       "      <th>Nume sectie de votare</th>\n",
       "      <th>Mediu</th>\n",
       "      <th>Înscriși pe liste permanente</th>\n",
       "      <th>LP</th>\n",
       "      <th>LS</th>\n",
       "      <th>...</th>\n",
       "      <th>Femei 111</th>\n",
       "      <th>Femei 112</th>\n",
       "      <th>Femei 113</th>\n",
       "      <th>Femei 114</th>\n",
       "      <th>Femei 115</th>\n",
       "      <th>Femei 116</th>\n",
       "      <th>Femei 117</th>\n",
       "      <th>Femei 118</th>\n",
       "      <th>Femei 119</th>\n",
       "      <th>Femei 120</th>\n",
       "    </tr>\n",
       "  </thead>\n",
       "  <tbody>\n",
       "    <tr>\n",
       "      <th>0</th>\n",
       "      <td>AB</td>\n",
       "      <td>MUNICIPIUL ALBA IULIA</td>\n",
       "      <td>ALBA IULIA</td>\n",
       "      <td>1017</td>\n",
       "      <td>1</td>\n",
       "      <td>CENTRUL DE ZI PENTRU PERSOANE VÂRSTNICE</td>\n",
       "      <td>U</td>\n",
       "      <td>1777</td>\n",
       "      <td>887</td>\n",
       "      <td>65</td>\n",
       "      <td>...</td>\n",
       "      <td>0</td>\n",
       "      <td>0</td>\n",
       "      <td>0</td>\n",
       "      <td>0</td>\n",
       "      <td>0</td>\n",
       "      <td>0</td>\n",
       "      <td>0</td>\n",
       "      <td>0</td>\n",
       "      <td>0</td>\n",
       "      <td>0</td>\n",
       "    </tr>\n",
       "    <tr>\n",
       "      <th>1</th>\n",
       "      <td>AB</td>\n",
       "      <td>MUNICIPIUL ALBA IULIA</td>\n",
       "      <td>ALBA IULIA</td>\n",
       "      <td>1017</td>\n",
       "      <td>2</td>\n",
       "      <td>ŞCOALA GIMNAZIALĂ „VASILE GOLDIŞ”</td>\n",
       "      <td>U</td>\n",
       "      <td>985</td>\n",
       "      <td>501</td>\n",
       "      <td>90</td>\n",
       "      <td>...</td>\n",
       "      <td>0</td>\n",
       "      <td>0</td>\n",
       "      <td>0</td>\n",
       "      <td>0</td>\n",
       "      <td>0</td>\n",
       "      <td>0</td>\n",
       "      <td>0</td>\n",
       "      <td>0</td>\n",
       "      <td>0</td>\n",
       "      <td>0</td>\n",
       "    </tr>\n",
       "  </tbody>\n",
       "</table>\n",
       "<p>2 rows × 229 columns</p>\n",
       "</div>"
      ],
      "text/plain": [
       "  Judet                    UAT  Localitate  Siruta  Nr sectie de votare  \\\n",
       "0    AB  MUNICIPIUL ALBA IULIA  ALBA IULIA    1017                    1   \n",
       "1    AB  MUNICIPIUL ALBA IULIA  ALBA IULIA    1017                    2   \n",
       "\n",
       "                     Nume sectie de votare Mediu  \\\n",
       "0  CENTRUL DE ZI PENTRU PERSOANE VÂRSTNICE     U   \n",
       "1        ŞCOALA GIMNAZIALĂ „VASILE GOLDIŞ”     U   \n",
       "\n",
       "   Înscriși pe liste permanente   LP  LS  ...  Femei 111  Femei 112  \\\n",
       "0                          1777  887  65  ...          0          0   \n",
       "1                           985  501  90  ...          0          0   \n",
       "\n",
       "   Femei 113  Femei 114  Femei 115  Femei 116  Femei 117  Femei 118  \\\n",
       "0          0          0          0          0          0          0   \n",
       "1          0          0          0          0          0          0   \n",
       "\n",
       "   Femei 119  Femei 120  \n",
       "0          0          0  \n",
       "1          0          0  \n",
       "\n",
       "[2 rows x 229 columns]"
      ]
     },
     "execution_count": 30,
     "metadata": {},
     "output_type": "execute_result"
    }
   ],
   "source": [
    "presence = pd.read_csv('presence_2025-05-04_21-00.csv')\n",
    "population = pd.read_csv('estat_demo_pjangroup$defaultview_filtered_en.csv')\n",
    "\n",
    "presence.head(2)"
   ]
  },
  {
   "cell_type": "markdown",
   "id": "1976fb94",
   "metadata": {},
   "source": [
    "We'll separate votes into age groups"
   ]
  },
  {
   "cell_type": "code",
   "execution_count": 68,
   "id": "5e502089",
   "metadata": {},
   "outputs": [
    {
     "data": {
      "text/plain": [
       "Barbati 18-24     367862\n",
       "Barbati 25-34     603845\n",
       "Barbati 35-44     909214\n",
       "Barbati 45-64    1870019\n",
       "Barbati 65+       952283\n",
       "Femei 18-24       373845\n",
       "Femei 25-34       611195\n",
       "Femei 35-44       869933\n",
       "Femei 45-64      1858511\n",
       "Femei 65+        1155033\n",
       "dtype: int64"
      ]
     },
     "execution_count": 68,
     "metadata": {},
     "output_type": "execute_result"
    }
   ],
   "source": [
    "age_groups = [\"Barbati 18-24\",\"Barbati 25-34\",\"Barbati 35-44\",\"Barbati 45-64\",\"Barbati 65+\",\"Femei 18-24\",\"Femei 25-34\",\"Femei 35-44\",\"Femei 45-64\",\"Femei 65+\"]\n",
    "\n",
    "age_group_count = presence[age_groups].sum()\n",
    "age_group_count"
   ]
  },
  {
   "cell_type": "markdown",
   "id": "9993106d",
   "metadata": {},
   "source": [
    "Now let's get the population in Romania for these age groups"
   ]
  },
  {
   "cell_type": "code",
   "execution_count": 69,
   "id": "089a95ac",
   "metadata": {},
   "outputs": [
    {
     "data": {
      "text/html": [
       "<div>\n",
       "<style scoped>\n",
       "    .dataframe tbody tr th:only-of-type {\n",
       "        vertical-align: middle;\n",
       "    }\n",
       "\n",
       "    .dataframe tbody tr th {\n",
       "        vertical-align: top;\n",
       "    }\n",
       "\n",
       "    .dataframe thead th {\n",
       "        text-align: right;\n",
       "    }\n",
       "</style>\n",
       "<table border=\"1\" class=\"dataframe\">\n",
       "  <thead>\n",
       "    <tr style=\"text-align: right;\">\n",
       "      <th></th>\n",
       "      <th>DATAFLOW</th>\n",
       "      <th>LAST UPDATE</th>\n",
       "      <th>freq</th>\n",
       "      <th>unit</th>\n",
       "      <th>sex</th>\n",
       "      <th>age</th>\n",
       "      <th>geo</th>\n",
       "      <th>TIME_PERIOD</th>\n",
       "      <th>OBS_VALUE</th>\n",
       "      <th>OBS_FLAG</th>\n",
       "      <th>CONF_STATUS</th>\n",
       "    </tr>\n",
       "  </thead>\n",
       "  <tbody>\n",
       "    <tr>\n",
       "      <th>0</th>\n",
       "      <td>ESTAT:DEMO_PJANGROUP$DEFAULTVIEW(1.0)</td>\n",
       "      <td>24/04/25 23:00:00</td>\n",
       "      <td>Annual</td>\n",
       "      <td>Number</td>\n",
       "      <td>Females</td>\n",
       "      <td>Total</td>\n",
       "      <td>Andorra</td>\n",
       "      <td>2019</td>\n",
       "      <td>37388.0</td>\n",
       "      <td>NaN</td>\n",
       "      <td>NaN</td>\n",
       "    </tr>\n",
       "    <tr>\n",
       "      <th>1</th>\n",
       "      <td>ESTAT:DEMO_PJANGROUP$DEFAULTVIEW(1.0)</td>\n",
       "      <td>24/04/25 23:00:00</td>\n",
       "      <td>Annual</td>\n",
       "      <td>Number</td>\n",
       "      <td>Females</td>\n",
       "      <td>Total</td>\n",
       "      <td>Albania</td>\n",
       "      <td>2015</td>\n",
       "      <td>1424597.0</td>\n",
       "      <td>NaN</td>\n",
       "      <td>NaN</td>\n",
       "    </tr>\n",
       "  </tbody>\n",
       "</table>\n",
       "</div>"
      ],
      "text/plain": [
       "                                DATAFLOW        LAST UPDATE    freq    unit  \\\n",
       "0  ESTAT:DEMO_PJANGROUP$DEFAULTVIEW(1.0)  24/04/25 23:00:00  Annual  Number   \n",
       "1  ESTAT:DEMO_PJANGROUP$DEFAULTVIEW(1.0)  24/04/25 23:00:00  Annual  Number   \n",
       "\n",
       "       sex    age      geo  TIME_PERIOD  OBS_VALUE OBS_FLAG  CONF_STATUS  \n",
       "0  Females  Total  Andorra         2019    37388.0      NaN          NaN  \n",
       "1  Females  Total  Albania         2015  1424597.0      NaN          NaN  "
      ]
     },
     "execution_count": 69,
     "metadata": {},
     "output_type": "execute_result"
    }
   ],
   "source": [
    "population.head(2)"
   ]
  },
  {
   "cell_type": "code",
   "execution_count": 70,
   "id": "e2d45a19",
   "metadata": {},
   "outputs": [],
   "source": [
    "def map_age_range_to_group(age_range):\n",
    "    if \"Less than\" in age_range or \" 0 to\" in age_range or \" 5 to\" in age_range or \"10 to\" in age_range:\n",
    "        return None  # Under 18, not included\n",
    "    elif \"20 to 24\" in age_range:  # \"15 to 19\" in age_range\n",
    "        return \"18-24\"\n",
    "    elif \"25 to 29\" in age_range or \"30 to 34\" in age_range:\n",
    "        return \"25-34\"\n",
    "    elif \"35 to 39\" in age_range or \"40 to 44\" in age_range:\n",
    "        return \"35-44\"\n",
    "    elif \"45 to 49\" in age_range or \"50 to 54\" in age_range or \"55 to 59\" in age_range or \"60 to 64\" in age_range:\n",
    "        return \"45-64\"\n",
    "    elif \"65\" in age_range or \"70\" in age_range or \"75\" in age_range or \"80\" in age_range or \"85\" in age_range or \"90\" in age_range:\n",
    "        return \"65+\"\n",
    "    else:\n",
    "        return None"
   ]
  },
  {
   "cell_type": "code",
   "execution_count": 72,
   "id": "13995147",
   "metadata": {},
   "outputs": [
    {
     "name": "stdout",
     "output_type": "stream",
     "text": [
      "Mapped Group  sex    \n",
      "18-24         Females     476768.0\n",
      "              Males       508551.0\n",
      "              Total       985319.0\n",
      "25-34         Females    1010859.0\n",
      "              Males      1081235.0\n",
      "              Total      2092094.0\n",
      "35-44         Females    1292161.0\n",
      "              Males      1376820.0\n",
      "              Total      2668981.0\n",
      "45-64         Females    2712102.0\n",
      "              Males      2662808.0\n",
      "              Total      5374910.0\n",
      "65+           Females    3823203.0\n",
      "              Males      2328425.0\n",
      "              Total      6151628.0\n",
      "Name: OBS_VALUE, dtype: float64\n"
     ]
    },
    {
     "name": "stderr",
     "output_type": "stream",
     "text": [
      "C:\\Users\\Tudor\\AppData\\Local\\Temp\\ipykernel_10928\\1361577187.py:5: SettingWithCopyWarning: \n",
      "A value is trying to be set on a copy of a slice from a DataFrame.\n",
      "Try using .loc[row_indexer,col_indexer] = value instead\n",
      "\n",
      "See the caveats in the documentation: https://pandas.pydata.org/pandas-docs/stable/user_guide/indexing.html#returning-a-view-versus-a-copy\n",
      "  population_romania['Mapped Group'] = population_romania['age'].apply(map_age_range_to_group)\n"
     ]
    }
   ],
   "source": [
    "# we'll take 2024 since it's the most recent year we have in the dataset\n",
    "# and ['geo'] == 'Romania' since we re only looking for the population in Romania\n",
    "\n",
    "population_romania = population[(population['geo'] == 'Romania') & (population['TIME_PERIOD'] == 2024)]\n",
    "population_romania['Mapped Group'] = population_romania['age'].apply(map_age_range_to_group)\n",
    "grouped_population = population_romania.groupby(['Mapped Group', 'sex'])['OBS_VALUE'].sum()\n",
    "print(grouped_population)"
   ]
  },
  {
   "cell_type": "markdown",
   "id": "1b733b80",
   "metadata": {},
   "source": [
    "Now we can plot procentages"
   ]
  },
  {
   "cell_type": "code",
   "execution_count": null,
   "id": "125399fc",
   "metadata": {},
   "outputs": [
    {
     "ename": "SyntaxError",
     "evalue": "invalid syntax (665099340.py, line 7)",
     "output_type": "error",
     "traceback": [
      "\u001b[1;36m  Cell \u001b[1;32mIn[75], line 7\u001b[1;36m\u001b[0m\n\u001b[1;33m    plt.bar(x=x_labels height=heights / 1000_000, color='skyblue', edgecolor='black')\u001b[0m\n\u001b[1;37m                       ^\u001b[0m\n\u001b[1;31mSyntaxError\u001b[0m\u001b[1;31m:\u001b[0m invalid syntax\n"
     ]
    }
   ],
   "source": [
    "import matplotlib.pyplot as plt\n",
    "\n",
    "# this will be the basic plot with the number of votes\n",
    "\n",
    "plt.bar(x=age_group_count.index, height=age_group_count.values / 1000_000, color='skyblue', edgecolor='black')\n",
    "plt.title('Voter Count by Age Group')\n",
    "plt.xlabel('Age Group')\n",
    "plt.ylabel('Number of Voters (in milions)')\n",
    "plt.xticks(rotation=45)\n",
    "plt.tight_layout()\n",
    "plt.show()"
   ]
  },
  {
   "cell_type": "code",
   "execution_count": null,
   "id": "ddc0e4c0",
   "metadata": {},
   "outputs": [],
   "source": [
    "import matplotlib.pyplot as plt\n",
    "\n",
    "# here we ll plot the population for age groups\n",
    "\n",
    "plt.bar(x=age_group_count.index, height=age_group_count.values / 1000_000, color='skyblue', edgecolor='black')\n",
    "plt.title('Voter Count by Age Group')\n",
    "plt.xlabel('Age Group')\n",
    "plt.ylabel('Number of Voters (in milions)')\n",
    "plt.xticks(rotation=45)\n",
    "plt.tight_layout()\n",
    "plt.show()"
   ]
  }
 ],
 "metadata": {
  "kernelspec": {
   "display_name": "Python 3",
   "language": "python",
   "name": "python3"
  },
  "language_info": {
   "codemirror_mode": {
    "name": "ipython",
    "version": 3
   },
   "file_extension": ".py",
   "mimetype": "text/x-python",
   "name": "python",
   "nbconvert_exporter": "python",
   "pygments_lexer": "ipython3",
   "version": "3.9.0"
  }
 },
 "nbformat": 4,
 "nbformat_minor": 5
}
